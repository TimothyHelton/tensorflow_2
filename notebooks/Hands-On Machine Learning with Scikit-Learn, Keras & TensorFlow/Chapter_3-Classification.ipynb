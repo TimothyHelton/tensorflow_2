{
 "cells": [
  {
   "cell_type": "markdown",
   "metadata": {},
   "source": [
    "# Hands-On Machine Learning with Scikit-Learn, Keras & TensorFlow\n",
    "\n",
    "## Chapter 2: Classification"
   ]
  },
  {
   "cell_type": "markdown",
   "metadata": {},
   "source": [
    "---\n",
    "### Imports"
   ]
  },
  {
   "cell_type": "code",
   "execution_count": null,
   "metadata": {},
   "outputs": [],
   "source": [
    "from pathlib import Path\n",
    "from typing import Optional\n",
    "\n",
    "import matplotlib.pyplot as plt\n",
    "import numpy as np\n",
    "from sklearn.datasets import fetch_openml\n",
    "from sklearn.linear_model import SGDClassifier\n",
    "\n",
    "from tensorflow_2.exceptions import InputError"
   ]
  },
  {
   "cell_type": "markdown",
   "metadata": {},
   "source": [
    "### Variables"
   ]
  },
  {
   "cell_type": "code",
   "execution_count": null,
   "metadata": {},
   "outputs": [],
   "source": [
    "DATA_DIR = Path('../../data/ch3_classification')"
   ]
  },
  {
   "cell_type": "markdown",
   "metadata": {},
   "source": [
    "---\n",
    "## Load Data"
   ]
  },
  {
   "cell_type": "code",
   "execution_count": null,
   "metadata": {},
   "outputs": [],
   "source": [
    "mnist = fetch_openml('mnist_784', version=1, data_home=DATA_DIR.parent)\n",
    "print(mnist['DESCR'])"
   ]
  },
  {
   "cell_type": "code",
   "execution_count": null,
   "metadata": {},
   "outputs": [],
   "source": [
    "mnist['target'] = mnist['target'].astype(np.uint8)\n",
    "x_train, y_train = [mnist[k][:60000] for k in ('data', 'target')]\n",
    "x_test, y_test = [mnist[k][60000:] for k in ('data', 'target')]"
   ]
  },
  {
   "cell_type": "code",
   "execution_count": null,
   "metadata": {},
   "outputs": [],
   "source": [
    "def plot_example(dset: str='train', idx: int=0, score: Optional[bool]=None):\n",
    "    \"\"\"\n",
    "    Plot example from dataset.\n",
    "    \n",
    "    :param dset: choose either `train` or `test`\n",
    "    :param idx: index of example\n",
    "    :param score: model predicted score\n",
    "    \"\"\"\n",
    "    if dset not in ('train', 'test'):\n",
    "        raise InputError(\n",
    "            f'dset={dset}',\n",
    "            f'Valid inputs for dset are \"train\" or \"test\"')\n",
    "    x = x_train if dset == 'train' else x_test\n",
    "    y = y_train if dset == 'train' else y_test\n",
    "    score = '' if score is None else f'   Predict: {score}'\n",
    "    plt.imshow(x[idx].reshape(28, 28), cmap='binary')\n",
    "    plt.title(f'Label: {y[idx]}{score}')\n",
    "    plt.axis('off')\n",
    "    plt.show()\n",
    "    \n",
    "    \n",
    "plot_example('train', 10)"
   ]
  },
  {
   "cell_type": "markdown",
   "metadata": {},
   "source": [
    "---\n",
    "## Train Binary Classifier\n",
    "\n",
    "Stochastic Gradient Descent (SGD) classifier\n",
    "- capable of handling very large datasets efficiently\n",
    "- evaluates training instances independently\n",
    "    - suited for online learning\n",
    "- relies on randomness during training"
   ]
  },
  {
   "cell_type": "code",
   "execution_count": null,
   "metadata": {},
   "outputs": [],
   "source": [
    "y_train_2 = y_train == 2\n",
    "y_test_2 = y_test == 2\n",
    "\n",
    "sgd_classifier = SGDClassifier(random_state=42)\n",
    "sgd_classifier.fit(x_train, y_train_2)"
   ]
  },
  {
   "cell_type": "code",
   "execution_count": null,
   "metadata": {},
   "outputs": [],
   "source": [
    "for n in range(10):\n",
    "    score = sgd_classifier.predict([x_train[n]])[0]\n",
    "    plot_example(dset='train', idx=n, score=score)"
   ]
  },
  {
   "cell_type": "code",
   "execution_count": null,
   "metadata": {},
   "outputs": [],
   "source": []
  }
 ],
 "metadata": {
  "kernelspec": {
   "display_name": "Python 3",
   "language": "python",
   "name": "python3"
  },
  "language_info": {
   "codemirror_mode": {
    "name": "ipython",
    "version": 3
   },
   "file_extension": ".py",
   "mimetype": "text/x-python",
   "name": "python",
   "nbconvert_exporter": "python",
   "pygments_lexer": "ipython3",
   "version": "3.6.9"
  }
 },
 "nbformat": 4,
 "nbformat_minor": 4
}
