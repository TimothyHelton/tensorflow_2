{
 "cells": [
  {
   "cell_type": "markdown",
   "metadata": {
    "collapsed": true,
    "pycharm": {
     "name": "#%% md\n"
    }
   },
   "source": [
    "# Hands-On Machine Learning with Scikit-Learn, Keras & TensorFlow\n",
    "\n",
    "## Chapter 1"
   ]
  },
  {
   "cell_type": "markdown",
   "metadata": {},
   "source": [
    "---\n",
    "\n",
    "### How would you define Machine Learning?\n",
    "\n",
    "#### PG 2\n",
    "\n",
    "Machine Learning is the science (and art) of programming computers so they can\n",
    "learn from data."
   ]
  },
  {
   "cell_type": "markdown",
   "metadata": {},
   "source": [
    "---\n",
    "\n",
    "### Can you name four types of problems where it shines?\n",
    "\n",
    "#### PG 5\n",
    "\n",
    "- Problems for which existing solutions require a lot of fine-tuning or long\n",
    "lists of rules.\n",
    "- Complex problems for which using a traditional approach yields no good\n",
    "solution.\n",
    "- Fluctuating environments\n",
    "- Getting insights about complex problems and large amounts of data."
   ]
  },
  {
   "cell_type": "markdown",
   "metadata": {},
   "source": [
    "---\n",
    "\n",
    "### What is a labeled training set?\n",
    "\n",
    "#### PG 8\n",
    "\n",
    "- Supervised learning uses labeled training sets.\n",
    "- Each example consists of an input (features) and and output (label)."
   ]
  },
  {
   "cell_type": "markdown",
   "metadata": {},
   "source": [
    "---\n",
    "\n",
    "### What are the two most common supervised tasks?\n",
    "\n",
    "#### PG 8\n",
    "\n",
    "- Classification: Output is a distinct category.\n",
    "- Regression: Output is a continuous value."
   ]
  },
  {
   "cell_type": "markdown",
   "metadata": {},
   "source": [
    "---\n",
    "\n",
    "### Can you name four common unsupervised tasks?\n",
    "\n",
    "#### PG 10\n",
    "\n",
    "- Clustering\n",
    "- Anomaly detection and novelty detection\n",
    "- Visualization and dimensionality reduction\n",
    "- Association rule learning"
   ]
  },
  {
   "cell_type": "markdown",
   "metadata": {},
   "source": [
    "---\n",
    "\n",
    "### What type of Machine Learning algorithm would you use to allow a robot to walk in various unknown terrains?\n",
    "\n",
    "#### PG 14\n",
    "\n",
    "Reinforcement Learning\n",
    "- Agent\n",
    "    - observes the environment\n",
    "    - select and performs actions (using the policy)\n",
    "    - gets rewards or penalties\n",
    "- Policy\n",
    "    - a learned strategy\n",
    "    \n",
    "1. Observe\n",
    "1. Select action using policy\n",
    "1. Action\n",
    "1. Get reward or penalty\n",
    "1. Update policy (learning step)\n",
    "1. Iterate until an optimal policy is found"
   ]
  },
  {
   "cell_type": "markdown",
   "metadata": {},
   "source": [
    "---\n",
    "\n",
    "### What type of algorithm would you use to segment your customers into multiple groups?\n",
    "\n",
    "#### PG 10\n",
    "\n",
    "- Unsupervised: Clustering algorithm\n",
    "- Supervised: Classification algorithm"
   ]
  },
  {
   "cell_type": "markdown",
   "metadata": {},
   "source": [
    "---\n",
    "\n",
    "### Would you frame the problem of spam detection as a supervised learning problem or an unsupervised learning problem?\n",
    "\n",
    "#### PG 2\n",
    "\n",
    "Examples of spam and ham are normally used to train a supervised learning\n",
    "algorithm for spam detection."
   ]
  },
  {
   "cell_type": "markdown",
   "metadata": {},
   "source": [
    "---\n",
    "\n",
    "### What is an online learning system?\n",
    "\n",
    "#### PG 15\n",
    "\n",
    "The system is trained incrementally by feeding it data instances sequentially, \n",
    "either individually or in small groups called mini-batches.\n",
    "\n",
    "Think of this as **incremental learning**. "
   ]
  },
  {
   "cell_type": "markdown",
   "metadata": {},
   "source": [
    "---\n",
    "\n",
    "### What is out-of-core learning?\n",
    "\n",
    "#### PG 16\n",
    "\n",
    "All the data cannot fit on a machine's main memory.\n",
    "The algorithm loads part of the data, runs a training step on that data,\n",
    "and repeats the process until it run on all the data."
   ]
  },
  {
   "cell_type": "markdown",
   "metadata": {},
   "source": [
    "---\n",
    "\n",
    "### What type of learning algorithm relies on a similarity measure to make predictions?\n",
    "\n",
    "#### PG 17\n",
    "\n",
    "Instance-Based Learning\n",
    "\n",
    "All the training examples are memorized and when a new instance is presented\n",
    "the a similarity measure to the nearest n training examples is used to make a\n",
    "decision."
   ]
  },
  {
   "cell_type": "markdown",
   "metadata": {},
   "source": [
    "---\n",
    "\n",
    "### What is the difference between a model parameter and a learning algorithm's hyperparameter?\n",
    "\n",
    "#### PG 29\n",
    "\n",
    "A *hyperparameter* is a parameter of a learning algorithm (not of the model)."
   ]
  },
  {
   "cell_type": "markdown",
   "metadata": {},
   "source": [
    "---\n",
    "\n",
    "### What do model-based learning algorithms search for? What is the most common strategy they use to succeed? How do they make predictions?\n",
    "\n",
    "#### PG 18\n",
    "\n",
    "Model-based learning algorithms attempt to determine the model parameters\n",
    "that minimize a Cost function, and thus are able to most accurately generalize\n",
    "to new instances. \n",
    "\n",
    "Loss Function: measure of an individual training instance.\n",
    "Cost Function: measure of all the training instances.\n",
    "\n",
    "After a model is trained a prediction on a new sample is made by feeding the\n",
    "new sample into the model as input and running inference to calculate an\n",
    "output."
   ]
  },
  {
   "cell_type": "markdown",
   "metadata": {},
   "source": [
    "---\n",
    "\n",
    "### Can you name four of the main challenges in Machine Learning?\n",
    "\n",
    "- Insufficient Quantity of Training Data (PG 23)\n",
    "- Nonrepresentative Training Data (PG 25)\n",
    "- Poor-Quality Data (PG 26)\n",
    "- Overfitting the Training Data (PG 27)\n",
    "- Underfitting the Training Data (PG 29)"
   ]
  },
  {
   "cell_type": "markdown",
   "metadata": {},
   "source": [
    "---\n",
    "\n",
    "### If your model performs great on the training data but generalizes poorly to new instances, what is happening? Can you name three possible solutions?\n",
    "\n",
    "#### PG 28\n",
    "\n",
    "The model is overfitting the data.\n",
    "\n",
    "- Simplify the model\n",
    "    - select a model with fewer parameters\n",
    "    - reduce the number of attributes in the training data\n",
    "    - constrain the model\n",
    "- Gather more training data\n",
    "- Reduce the noise in the training data"
   ]
  },
  {
   "cell_type": "markdown",
   "metadata": {},
   "source": [
    "---\n",
    "\n",
    "### What is a test set, and why would you want to use it?\n",
    "\n",
    "#### PG 30\n",
    "A test set is used to evaluate how well a model generalizes to new data.\n",
    "It is key that the data in the test set was never used to train the model."
   ]
  },
  {
   "cell_type": "markdown",
   "metadata": {},
   "source": [
    "---\n",
    "\n",
    "### What is the purpose of a validation set?\n",
    "\n",
    "#### PG 31\n",
    "\n",
    "A validation set is used to rank different models or hyperparameter\n",
    "configurations."
   ]
  },
  {
   "cell_type": "markdown",
   "metadata": {},
   "source": [
    "---\n",
    "\n",
    "### What is the train-dev set, when do you need it, and how do you use it?\n",
    "\n",
    "#### PG 32\n",
    "\n",
    "The train-dev set is used when there is a risk of mismatch between the training \n",
    "data and the data used in the validation and test datasets.\n",
    "\n",
    "The train-dev set is a holdout set from the training set.\n",
    "\n",
    "1. Train the model on the train set.\n",
    "1. Run inference on the train-dev set and the validation set.\n",
    "1. If the model performs well on the training set but not on the train-dev \n",
    "set, then the model is likely overfitting.\n",
    "    1. Address the overfitting.\n",
    "1. If it performs well on both the training set and the train-dev set, but\n",
    "not on the validation set, then there is probably a significant data mismatch \n",
    "between the training data and the validation/test data.\n",
    "    1. Improve the training data to make it look more like the \n",
    "    validation/test data."
   ]
  },
  {
   "cell_type": "markdown",
   "metadata": {
    "pycharm": {
     "name": "#%% md\n"
    }
   },
   "source": [
    "---\n",
    "\n",
    "### What can go wrong if you tune hyperparameters using the test set?\n",
    "\n",
    "#### PG 31\n",
    "\n",
    "The model is being weakly trained to the test set and will not generalize to\n",
    "new data as well as the metrics against the test set predict. "
   ]
  }
 ],
 "metadata": {
  "kernelspec": {
   "display_name": "Python 3",
   "language": "python",
   "name": "python3"
  },
  "language_info": {
   "codemirror_mode": {
    "name": "ipython",
    "version": 3
   },
   "file_extension": ".py",
   "mimetype": "text/x-python",
   "name": "python",
   "nbconvert_exporter": "python",
   "pygments_lexer": "ipython3",
   "version": "3.6.9"
  },
  "pycharm": {
   "stem_cell": {
    "cell_type": "raw",
    "source": [],
    "metadata": {
     "collapsed": false
    }
   }
  }
 },
 "nbformat": 4,
 "nbformat_minor": 1
}