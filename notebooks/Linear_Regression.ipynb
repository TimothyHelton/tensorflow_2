{
 "cells": [
  {
   "cell_type": "markdown",
   "metadata": {},
   "source": [
    "# Linear Regression"
   ]
  },
  {
   "cell_type": "markdown",
   "metadata": {},
   "source": [
    "## Imports"
   ]
  },
  {
   "cell_type": "code",
   "execution_count": null,
   "metadata": {},
   "outputs": [],
   "source": [
    "import logging\n",
    "\n",
    "import numpy as np\n",
    "import plotly.graph_objects as go\n",
    "import plotly.offline as iplot\n",
    "import tensorflow as tf"
   ]
  },
  {
   "cell_type": "markdown",
   "metadata": {},
   "source": [
    "## Data"
   ]
  },
  {
   "cell_type": "code",
   "execution_count": null,
   "metadata": {},
   "outputs": [],
   "source": [
    "x_train = np.array([-40, -10, 0, 8, 15, 22, 38], dtype=float)\n",
    "y_train = np.array([-40, 14, 32, 46.4, 59, 71.6, 100], dtype=float)"
   ]
  },
  {
   "cell_type": "markdown",
   "metadata": {},
   "source": [
    "## Karas Model"
   ]
  },
  {
   "cell_type": "markdown",
   "metadata": {},
   "source": [
    "### Create Model"
   ]
  },
  {
   "cell_type": "code",
   "execution_count": null,
   "metadata": {},
   "outputs": [],
   "source": [
    "model = tf.keras.models.Sequential([\n",
    "    tf.keras.layers.Dense(units=1, input_shape=[1])\n",
    "])\n",
    "model.compile(\n",
    "    loss='mean_squared_error',\n",
    "    optimizer=tf.keras.optimizers.Adam(learning_rate=0.1),\n",
    ")"
   ]
  },
  {
   "cell_type": "markdown",
   "metadata": {},
   "source": [
    "### Train"
   ]
  },
  {
   "cell_type": "code",
   "execution_count": null,
   "metadata": {},
   "outputs": [],
   "source": [
    "history = model.fit(x_train, y_train, epochs=500, verbose=False)"
   ]
  },
  {
   "cell_type": "markdown",
   "metadata": {},
   "source": [
    "### Plot Loss"
   ]
  },
  {
   "cell_type": "code",
   "execution_count": null,
   "metadata": {},
   "outputs": [],
   "source": [
    "fig =go.Figure()\n",
    "fig.add_trace(go.Scatter(y=history.history['loss']))\n",
    "fig.layout.update({\n",
    "    'title': {'text': 'Loss Function'},\n",
    "    'titlefont': {'size': 24},\n",
    "    'xaxis': {'title': 'Epoch'},\n",
    "    'yaxis': {'title': 'Loss'},\n",
    "})\n",
    "fig.show()"
   ]
  },
  {
   "cell_type": "markdown",
   "metadata": {},
   "source": [
    "### Plot Model Fit"
   ]
  },
  {
   "cell_type": "code",
   "execution_count": null,
   "metadata": {},
   "outputs": [],
   "source": [
    "fig = go.Figure()\n",
    "\n",
    "fig.add_trace(go.Scatter(x=x_train, y=y_train,\n",
    "                         mode='markers', name='Input Data'))\n",
    "\n",
    "x_test = list(range(-40, 50, 10))\n",
    "predict = model.predict(x_test)[:, 0]\n",
    "fig.add_trace(go.Scatter(x=x_test, y=predict,\n",
    "                         mode='lines', name='Model'))\n",
    "\n",
    "m, b = model.get_weights()\n",
    "fig.add_annotation(\n",
    "    go.layout.Annotation(\n",
    "        x=0.9,\n",
    "        y=0.99,\n",
    "        text=f'y = {m[0][0]:0.3f}x + {b[0]:0.3f}',\n",
    "        xref='paper',\n",
    "        yref='paper',\n",
    "        showarrow=False,\n",
    "        bgcolor='white',\n",
    "    )\n",
    ")\n",
    "\n",
    "\n",
    "fig.layout.update({\n",
    "    'title': {'text': 'Linear Regression'},\n",
    "    'titlefont': {'size': 24},\n",
    "    'xaxis': {'title': 'Celsius'},\n",
    "    'yaxis': {'title': 'Fahrenheit'},\n",
    "})\n",
    "fig.show()"
   ]
  }
 ],
 "metadata": {
  "kernelspec": {
   "display_name": "Python 3",
   "language": "python",
   "name": "python3"
  },
  "language_info": {
   "codemirror_mode": {
    "name": "ipython",
    "version": 3
   },
   "file_extension": ".py",
   "mimetype": "text/x-python",
   "name": "python",
   "nbconvert_exporter": "python",
   "pygments_lexer": "ipython3",
   "version": "3.6.9"
  }
 },
 "nbformat": 4,
 "nbformat_minor": 2
}
