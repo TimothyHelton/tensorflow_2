{
 "cells": [
  {
   "cell_type": "markdown",
   "metadata": {
    "toc-hr-collapsed": true
   },
   "source": [
    "# TensorFlow 2.0: Tutorial 2 Basic Classification"
   ]
  },
  {
   "cell_type": "markdown",
   "metadata": {},
   "source": [
    "### Imports"
   ]
  },
  {
   "cell_type": "code",
   "execution_count": 1,
   "metadata": {},
   "outputs": [],
   "source": [
    "import logging\n",
    "\n",
    "import matplotlib.pyplot as plt\n",
    "import matplotlib.gridspec as gridspec\n",
    "import numpy as np\n",
    "import plotly.figure_factory as ff\n",
    "from plotly.offline import iplot\n",
    "import tensorflow as tf"
   ]
  },
  {
   "cell_type": "markdown",
   "metadata": {},
   "source": [
    "### Format Notebook"
   ]
  },
  {
   "cell_type": "code",
   "execution_count": 2,
   "metadata": {},
   "outputs": [],
   "source": [
    "logging.basicConfig(level=logging.INFO)\n",
    "\n",
    "# from IPython.core.interactiveshell import InteractiveShell\n",
    "# InteractiveShell.ast_node_interactivity = 'all'\n",
    "\n",
    "from IPython.display import display\n",
    "\n",
    "axis_font = {\n",
    "    'color': 'gray',\n",
    "    'family': 'Arial, sans-serif',\n",
    "    'size': 18,\n",
    "}\n",
    "\n",
    "tick_font = {\n",
    "    'color': 'black',\n",
    "    'family': 'Old Standard TT, serif',\n",
    "    'size': 14,\n",
    "}"
   ]
  },
  {
   "cell_type": "markdown",
   "metadata": {
    "toc-hr-collapsed": true
   },
   "source": [
    "# Load Data"
   ]
  },
  {
   "cell_type": "code",
   "execution_count": 3,
   "metadata": {},
   "outputs": [],
   "source": [
    "fashion_mnist = tf.keras.datasets.fashion_mnist\n",
    "(x_train, y_train), (x_test, y_test) = fashion_mnist.load_data()"
   ]
  },
  {
   "cell_type": "markdown",
   "metadata": {},
   "source": [
    "### Classes\n",
    "\n",
    "| Label | Class |\n",
    "|---|---|\n",
    "| 0 | T-shirt/Top |\n",
    "| 1 | Trouser |\n",
    "| 2 | Pullover |\n",
    "| 3 | Dress |\n",
    "| 4 | Coat | \n",
    "| 5 | Sandal |\n",
    "| 6 | Shirt |\n",
    "| 7 | Sneaker |\n",
    "| 8 | Bag |\n",
    "| 9 | Ankle Boot |"
   ]
  },
  {
   "cell_type": "code",
   "execution_count": 4,
   "metadata": {},
   "outputs": [],
   "source": [
    "classes = (\n",
    "    't-shirt_top',\n",
    "    'trouser',\n",
    "    'pullover',\n",
    "    'dress',\n",
    "    'coat',\n",
    "    'sandal',\n",
    "    'shirt',\n",
    "    'sneaker',\n",
    "    'bag',\n",
    "    'ankle_boot',\n",
    ")\n",
    "classes_idx = {k: v for k, v in enumerate(classes)}"
   ]
  },
  {
   "cell_type": "markdown",
   "metadata": {},
   "source": [
    "### Normalize Inputs with Min-Max Scaling\n",
    "inputs $\\in$ {0, 1}"
   ]
  },
  {
   "cell_type": "code",
   "execution_count": 5,
   "metadata": {},
   "outputs": [
    {
     "name": "stdout",
     "output_type": "stream",
     "text": [
      "Train Shape: (60000, 28, 28)\n",
      "Test Shape: (10000, 28, 28)\n"
     ]
    }
   ],
   "source": [
    "x_train, x_test = [x / x.max() for x in (x_train, x_test)]\n",
    "print(f'Train Shape: {x_train.shape}')\n",
    "print(f'Test Shape: {x_test.shape}')"
   ]
  },
  {
   "cell_type": "markdown",
   "metadata": {},
   "source": [
    "# Visualize Training Dataset"
   ]
  },
  {
   "cell_type": "markdown",
   "metadata": {},
   "source": [
    "### First Example"
   ]
  },
  {
   "cell_type": "code",
   "execution_count": 6,
   "metadata": {},
   "outputs": [
    {
     "data": {
      "image/png": "[encoded data removed]",
      "text/plain": [
       "<Figure size 432x288 with 2 Axes>"
      ]
     },
     "metadata": {
      "needs_background": "light"
     },
     "output_type": "display_data"
    }
   ],
   "source": [
    "fig = plt.figure()\n",
    "ax = fig.add_subplot(111)\n",
    "image = ax.imshow(x_train[0], cmap='gray')\n",
    "ax.set_title(classes_idx[y_train[0]])\n",
    "fig.colorbar(image, ax=ax)\n",
    "plt.show()"
   ]
  },
  {
   "cell_type": "markdown",
   "metadata": {},
   "source": [
    "### First 10 Examples"
   ]
  },
  {
   "cell_type": "code",
   "execution_count": 7,
   "metadata": {},
   "outputs": [
    {
     "data": {
      "image/png": "[encoded data removed]",
      "text/plain": [
       "<Figure size 432x288 with 10 Axes>"
      ]
     },
     "metadata": {
      "needs_background": "light"
     },
     "output_type": "display_data"
    }
   ],
   "source": [
    "for n in range(10):\n",
    "    ax = plt.subplot(2, 5, n + 1)\n",
    "    ax.imshow(x_train[n], cmap='gray')\n",
    "    ax.set_title(classes_idx[y_train[n]])\n",
    "    ax.axis('off')"
   ]
  },
  {
   "cell_type": "markdown",
   "metadata": {},
   "source": [
    "# Karas Model"
   ]
  },
  {
   "cell_type": "markdown",
   "metadata": {},
   "source": [
    "### Create Model"
   ]
  },
  {
   "cell_type": "code",
   "execution_count": 8,
   "metadata": {},
   "outputs": [],
   "source": [
    "model = tf.keras.models.Sequential([\n",
    "    tf.keras.layers.Flatten(input_shape=(28, 28)),\n",
    "    tf.keras.layers.Dense(128, activation='relu'),\n",
    "    tf.keras.layers.Dense(10, activation='softmax'),\n",
    "])\n",
    "\n",
    "model.compile(optimizer='adam',\n",
    "              loss='sparse_categorical_crossentropy',\n",
    "              metrics=['accuracy'])"
   ]
  },
  {
   "cell_type": "markdown",
   "metadata": {},
   "source": [
    "### Train and Evaluate Model"
   ]
  },
  {
   "cell_type": "code",
   "execution_count": 9,
   "metadata": {},
   "outputs": [],
   "source": [
    "class MyCallback(tf.keras.callbacks.Callback):\n",
    "    def __init__(self):\n",
    "        self.train_accuracy = 0.90\n",
    "    \n",
    "    def on_epoch_end(self, epoch, logs):\n",
    "        if logs.get('accuracy', 0) > self.train_accuracy:\n",
    "            logging.info(f'{self.train_accuracy}% Train Accuracy reached')\n",
    "            self.model.stop_training = True"
   ]
  },
  {
   "cell_type": "code",
   "execution_count": 10,
   "metadata": {},
   "outputs": [
    {
     "name": "stderr",
     "output_type": "stream",
     "text": [
      "WARNING: Logging before flag parsing goes to stderr.\n",
      "W0627 13:50:37.998527 139875547829248 deprecation.py:323] From /usr/local/lib/python3.6/site-packages/tensorflow/python/ops/math_grad.py:1250: add_dispatch_support.<locals>.wrapper (from tensorflow.python.ops.array_ops) is deprecated and will be removed in a future version.\n",
      "Instructions for updating:\n",
      "Use tf.where in 2.0, which has the same broadcast rule as np.where\n"
     ]
    },
    {
     "name": "stdout",
     "output_type": "stream",
     "text": [
      "Train on 60000 samples\n",
      "Epoch 1/50\n",
      "60000/60000 - 5s - loss: 0.4936 - accuracy: 0.8241\n",
      "Epoch 2/50\n",
      "60000/60000 - 5s - loss: 0.3704 - accuracy: 0.8654\n",
      "Epoch 3/50\n",
      "60000/60000 - 5s - loss: 0.3333 - accuracy: 0.8787\n",
      "Epoch 4/50\n",
      "60000/60000 - 4s - loss: 0.3120 - accuracy: 0.8858\n",
      "Epoch 5/50\n",
      "60000/60000 - 5s - loss: 0.2916 - accuracy: 0.8921\n",
      "Epoch 6/50\n",
      "60000/60000 - 4s - loss: 0.2781 - accuracy: 0.8965\n",
      "Epoch 7/50\n",
      "60000/60000 - 5s - loss: 0.2650 - accuracy: 0.9014\n",
      "10000/10000 [==============================] - 0s 46us/sample - loss: 0.3544 - accuracy: 0.8738\n",
      "Model Test Loss:0.354\n",
      "Model Test Accuracy:87.4%\n"
     ]
    }
   ],
   "source": [
    "model.fit(x_train, y_train, epochs=50, \n",
    "          verbose=2, callbacks=[MyCallback()])\n",
    "loss, accuracy = model.evaluate(x_test, y_test)\n",
    "print(f'{\"Model Test Loss:\":16}{loss:.3}')\n",
    "print(f'{\"Model Test Accuracy:\":16}{accuracy:.1%}')"
   ]
  },
  {
   "cell_type": "markdown",
   "metadata": {},
   "source": [
    "#### Model achieved 88% accuracy after 5 epochs."
   ]
  },
  {
   "cell_type": "markdown",
   "metadata": {},
   "source": [
    "### Model Predictions"
   ]
  },
  {
   "cell_type": "code",
   "execution_count": 11,
   "metadata": {},
   "outputs": [],
   "source": [
    "predict_arr = model.predict(x_test)\n",
    "predict = np.argmax(predict_arr, axis=1)"
   ]
  },
  {
   "cell_type": "markdown",
   "metadata": {},
   "source": [
    "### Visualize Predictions"
   ]
  },
  {
   "cell_type": "code",
   "execution_count": 12,
   "metadata": {},
   "outputs": [],
   "source": [
    "def plot_predictions(n_examples: int, predictions: np.array,\n",
    "                     ground_truth: np.array):\n",
    "    \"\"\"\n",
    "    Chart of predicted classes for a given example.\n",
    "    \n",
    "    :param n_examples: number of training examples to display\n",
    "    :param predictions: predicted class probablilities for each example\n",
    "    :param ground_truth: actual classes\n",
    "    \"\"\"\n",
    "    cols = 2\n",
    "    rows = int(np.ceil(n_examples / cols))\n",
    "    fig = plt.figure(figsize=(8 * cols, 4 * rows))\n",
    "    outer = gridspec.GridSpec(rows, cols, wspace=0.4, hspace=0.4)\n",
    "    \n",
    "    for n in range(n_examples):\n",
    "        prediction = np.argmax(predictions[n])\n",
    "        truth = ground_truth[n]\n",
    "        \n",
    "        inner = gridspec.GridSpecFromSubplotSpec(\n",
    "            1, 2, subplot_spec=outer[n], wspace=0.1, hspace=0.1)\n",
    "        \n",
    "        # Image\n",
    "        ax = plt.Subplot(fig, inner[0])\n",
    "        ax.imshow(x_train[n], cmap='gray')\n",
    "        title = f'{classes_idx[prediction]} {predictions[n].max():.0%}'\n",
    "        if prediction == truth:\n",
    "            color = 'blue'\n",
    "        else:\n",
    "            color = 'red'\n",
    "            title = title + f'\\nActual: {classes_idx[truth]}'\n",
    "        color = 'blue' if prediction == truth else 'red'\n",
    "        ax.set_title(title, fontsize=20, color=color)\n",
    "        ax.axis('off')\n",
    "        fig.add_subplot(ax)\n",
    "        \n",
    "        # Predictions\n",
    "        ax = plt.Subplot(fig, inner[1])        \n",
    "        bar = ax.bar(range(10), predictions[n], color='grey')\n",
    "        bar[prediction].set_color('red')\n",
    "        bar[truth].set_color('blue')\n",
    "        ax.set_title(f'Example: {n}', fontsize=20, color=color)\n",
    "        ax.axis('off')\n",
    "        ax.set_ylim([0, 1])\n",
    "        fig.add_subplot(ax)\n",
    "            \n",
    "    fig.show()"
   ]
  },
  {
   "cell_type": "code",
   "execution_count": 13,
   "metadata": {},
   "outputs": [
    {
     "data": {
      "image/png": "[encoded data removed]",
      "text/plain": [
       "<Figure size 1152x4608 with 64 Axes>"
      ]
     },
     "metadata": {
      "needs_background": "light"
     },
     "output_type": "display_data"
    }
   ],
   "source": [
    "plot_predictions(32, predict_arr, y_test)"
   ]
  },
  {
   "cell_type": "markdown",
   "metadata": {},
   "source": [
    "It appears some of the label's ground truth values are mislabeled.\n",
    "- Example: 23 looks like a *bag* but is labeled an *ankle boot*\n",
    "- Example: 29 looks like a *pullover* or *coat* but is labeled *dress*\n",
    "- ..."
   ]
  },
  {
   "cell_type": "markdown",
   "metadata": {},
   "source": [
    "### Confusion Matrix"
   ]
  },
  {
   "cell_type": "code",
   "execution_count": 14,
   "metadata": {},
   "outputs": [
    {
     "data": {
      "application/vnd.plotly.v1+json": {
       "config": {
        "linkText": "Export to plot.ly",
        "plotlyServerURL": "https://plot.ly",
        "showLink": "MNIST Confusion Matrix"
       },
       "data": [
        {
         "colorscale": "Blues",
         "reversescale": true,
         "showscale": false,
         "type": "heatmap",
         "uid": "9de0ccde-3b57-4f83-8fe2-b6a2d43a27fa",
         "x": [
          "t-shirt_top",
          "trouser",
          "pullover",
          "dress",
          "coat",
          "sandal",
          "shirt",
          "sneaker",
          "bag",
          "ankle_boot"
         ],
         "y": [
          "t-shirt_top",
          "trouser",
          "pullover",
          "dress",
          "coat",
          "sandal",
          "shirt",
          "sneaker",
          "bag",
          "ankle_boot"
         ],
         "z": [
          [
           883,
           1,
           6,
           7,
           6,
           0,
           91,
           0,
           6,
           0
          ],
          [
           9,
           972,
           0,
           11,
           2,
           0,
           6,
           0,
           0,
           0
          ],
          [
           23,
           0,
           767,
           13,
           96,
           1,
           96,
           0,
           4,
           0
          ],
          [
           85,
           11,
           5,
           817,
           36,
           1,
           39,
           0,
           6,
           0
          ],
          [
           1,
           0,
           97,
           26,
           760,
           0,
           113,
           0,
           3,
           0
          ],
          [
           0,
           0,
           0,
           1,
           0,
           966,
           0,
           21,
           1,
           11
          ],
          [
           153,
           0,
           75,
           18,
           49,
           0,
           691,
           0,
           14,
           0
          ],
          [
           0,
           0,
           0,
           0,
           0,
           12,
           0,
           975,
           1,
           12
          ],
          [
           8,
           0,
           2,
           1,
           3,
           1,
           8,
           5,
           972,
           0
          ],
          [
           0,
           0,
           0,
           0,
           0,
           5,
           1,
           59,
           0,
           935
          ]
         ],
         "zmax": 153,
         "zmin": 0
        }
       ],
       "layout": {
        "annotations": [
         {
          "font": {
           "color": "gold"
          },
          "showarrow": false,
          "text": "883",
          "x": "t-shirt_top",
          "xref": "x",
          "y": "t-shirt_top",
          "yref": "y"
         },
         {
          "font": {
           "color": "white"
          },
          "showarrow": false,
          "text": "1",
          "x": "trouser",
          "xref": "x",
          "y": "t-shirt_top",
          "yref": "y"
         },
         {
          "font": {
           "color": "white"
          },
          "showarrow": false,
          "text": "6",
          "x": "pullover",
          "xref": "x",
          "y": "t-shirt_top",
          "yref": "y"
         },
         {
          "font": {
           "color": "white"
          },
          "showarrow": false,
          "text": "7",
          "x": "dress",
          "xref": "x",
          "y": "t-shirt_top",
          "yref": "y"
         },
         {
          "font": {
           "color": "white"
          },
          "showarrow": false,
          "text": "6",
          "x": "coat",
          "xref": "x",
          "y": "t-shirt_top",
          "yref": "y"
         },
         {
          "font": {
           "color": "white"
          },
          "showarrow": false,
          "text": "",
          "x": "sandal",
          "xref": "x",
          "y": "t-shirt_top",
          "yref": "y"
         },
         {
          "font": {
           "color": "white"
          },
          "showarrow": false,
          "text": "91",
          "x": "shirt",
          "xref": "x",
          "y": "t-shirt_top",
          "yref": "y"
         },
         {
          "font": {
           "color": "white"
          },
          "showarrow": false,
          "text": "",
          "x": "sneaker",
          "xref": "x",
          "y": "t-shirt_top",
          "yref": "y"
         },
         {
          "font": {
           "color": "white"
          },
          "showarrow": false,
          "text": "6",
          "x": "bag",
          "xref": "x",
          "y": "t-shirt_top",
          "yref": "y"
         },
         {
          "font": {
           "color": "white"
          },
          "showarrow": false,
          "text": "",
          "x": "ankle_boot",
          "xref": "x",
          "y": "t-shirt_top",
          "yref": "y"
         },
         {
          "font": {
           "color": "white"
          },
          "showarrow": false,
          "text": "9",
          "x": "t-shirt_top",
          "xref": "x",
          "y": "trouser",
          "yref": "y"
         },
         {
          "font": {
           "color": "gold"
          },
          "showarrow": false,
          "text": "972",
          "x": "trouser",
          "xref": "x",
          "y": "trouser",
          "yref": "y"
         },
         {
          "font": {
           "color": "white"
          },
          "showarrow": false,
          "text": "",
          "x": "pullover",
          "xref": "x",
          "y": "trouser",
          "yref": "y"
         },
         {
          "font": {
           "color": "white"
          },
          "showarrow": false,
          "text": "11",
          "x": "dress",
          "xref": "x",
          "y": "trouser",
          "yref": "y"
         },
         {
          "font": {
           "color": "white"
          },
          "showarrow": false,
          "text": "2",
          "x": "coat",
          "xref": "x",
          "y": "trouser",
          "yref": "y"
         },
         {
          "font": {
           "color": "white"
          },
          "showarrow": false,
          "text": "",
          "x": "sandal",
          "xref": "x",
          "y": "trouser",
          "yref": "y"
         },
         {
          "font": {
           "color": "white"
          },
          "showarrow": false,
          "text": "6",
          "x": "shirt",
          "xref": "x",
          "y": "trouser",
          "yref": "y"
         },
         {
          "font": {
           "color": "white"
          },
          "showarrow": false,
          "text": "",
          "x": "sneaker",
          "xref": "x",
          "y": "trouser",
          "yref": "y"
         },
         {
          "font": {
           "color": "white"
          },
          "showarrow": false,
          "text": "",
          "x": "bag",
          "xref": "x",
          "y": "trouser",
          "yref": "y"
         },
         {
          "font": {
           "color": "white"
          },
          "showarrow": false,
          "text": "",
          "x": "ankle_boot",
          "xref": "x",
          "y": "trouser",
          "yref": "y"
         },
         {
          "font": {
           "color": "white"
          },
          "showarrow": false,
          "text": "23",
          "x": "t-shirt_top",
          "xref": "x",
          "y": "pullover",
          "yref": "y"
         },
         {
          "font": {
           "color": "white"
          },
          "showarrow": false,
          "text": "",
          "x": "trouser",
          "xref": "x",
          "y": "pullover",
          "yref": "y"
         },
         {
          "font": {
           "color": "gold"
          },
          "showarrow": false,
          "text": "767",
          "x": "pullover",
          "xref": "x",
          "y": "pullover",
          "yref": "y"
         },
         {
          "font": {
           "color": "white"
          },
          "showarrow": false,
          "text": "13",
          "x": "dress",
          "xref": "x",
          "y": "pullover",
          "yref": "y"
         },
         {
          "font": {
           "color": "white"
          },
          "showarrow": false,
          "text": "96",
          "x": "coat",
          "xref": "x",
          "y": "pullover",
          "yref": "y"
         },
         {
          "font": {
           "color": "white"
          },
          "showarrow": false,
          "text": "1",
          "x": "sandal",
          "xref": "x",
          "y": "pullover",
          "yref": "y"
         },
         {
          "font": {
           "color": "white"
          },
          "showarrow": false,
          "text": "96",
          "x": "shirt",
          "xref": "x",
          "y": "pullover",
          "yref": "y"
         },
         {
          "font": {
           "color": "white"
          },
          "showarrow": false,
          "text": "",
          "x": "sneaker",
          "xref": "x",
          "y": "pullover",
          "yref": "y"
         },
         {
          "font": {
           "color": "white"
          },
          "showarrow": false,
          "text": "4",
          "x": "bag",
          "xref": "x",
          "y": "pullover",
          "yref": "y"
         },
         {
          "font": {
           "color": "white"
          },
          "showarrow": false,
          "text": "",
          "x": "ankle_boot",
          "xref": "x",
          "y": "pullover",
          "yref": "y"
         },
         {
          "font": {
           "color": "white"
          },
          "showarrow": false,
          "text": "85",
          "x": "t-shirt_top",
          "xref": "x",
          "y": "dress",
          "yref": "y"
         },
         {
          "font": {
           "color": "white"
          },
          "showarrow": false,
          "text": "11",
          "x": "trouser",
          "xref": "x",
          "y": "dress",
          "yref": "y"
         },
         {
          "font": {
           "color": "white"
          },
          "showarrow": false,
          "text": "5",
          "x": "pullover",
          "xref": "x",
          "y": "dress",
          "yref": "y"
         },
         {
          "font": {
           "color": "gold"
          },
          "showarrow": false,
          "text": "817",
          "x": "dress",
          "xref": "x",
          "y": "dress",
          "yref": "y"
         },
         {
          "font": {
           "color": "white"
          },
          "showarrow": false,
          "text": "36",
          "x": "coat",
          "xref": "x",
          "y": "dress",
          "yref": "y"
         },
         {
          "font": {
           "color": "white"
          },
          "showarrow": false,
          "text": "1",
          "x": "sandal",
          "xref": "x",
          "y": "dress",
          "yref": "y"
         },
         {
          "font": {
           "color": "white"
          },
          "showarrow": false,
          "text": "39",
          "x": "shirt",
          "xref": "x",
          "y": "dress",
          "yref": "y"
         },
         {
          "font": {
           "color": "white"
          },
          "showarrow": false,
          "text": "",
          "x": "sneaker",
          "xref": "x",
          "y": "dress",
          "yref": "y"
         },
         {
          "font": {
           "color": "white"
          },
          "showarrow": false,
          "text": "6",
          "x": "bag",
          "xref": "x",
          "y": "dress",
          "yref": "y"
         },
         {
          "font": {
           "color": "white"
          },
          "showarrow": false,
          "text": "",
          "x": "ankle_boot",
          "xref": "x",
          "y": "dress",
          "yref": "y"
         },
         {
          "font": {
           "color": "white"
          },
          "showarrow": false,
          "text": "1",
          "x": "t-shirt_top",
          "xref": "x",
          "y": "coat",
          "yref": "y"
         },
         {
          "font": {
           "color": "white"
          },
          "showarrow": false,
          "text": "",
          "x": "trouser",
          "xref": "x",
          "y": "coat",
          "yref": "y"
         },
         {
          "font": {
           "color": "white"
          },
          "showarrow": false,
          "text": "97",
          "x": "pullover",
          "xref": "x",
          "y": "coat",
          "yref": "y"
         },
         {
          "font": {
           "color": "white"
          },
          "showarrow": false,
          "text": "26",
          "x": "dress",
          "xref": "x",
          "y": "coat",
          "yref": "y"
         },
         {
          "font": {
           "color": "gold"
          },
          "showarrow": false,
          "text": "760",
          "x": "coat",
          "xref": "x",
          "y": "coat",
          "yref": "y"
         },
         {
          "font": {
           "color": "white"
          },
          "showarrow": false,
          "text": "",
          "x": "sandal",
          "xref": "x",
          "y": "coat",
          "yref": "y"
         },
         {
          "font": {
           "color": "white"
          },
          "showarrow": false,
          "text": "113",
          "x": "shirt",
          "xref": "x",
          "y": "coat",
          "yref": "y"
         },
         {
          "font": {
           "color": "white"
          },
          "showarrow": false,
          "text": "",
          "x": "sneaker",
          "xref": "x",
          "y": "coat",
          "yref": "y"
         },
         {
          "font": {
           "color": "white"
          },
          "showarrow": false,
          "text": "3",
          "x": "bag",
          "xref": "x",
          "y": "coat",
          "yref": "y"
         },
         {
          "font": {
           "color": "white"
          },
          "showarrow": false,
          "text": "",
          "x": "ankle_boot",
          "xref": "x",
          "y": "coat",
          "yref": "y"
         },
         {
          "font": {
           "color": "white"
          },
          "showarrow": false,
          "text": "",
          "x": "t-shirt_top",
          "xref": "x",
          "y": "sandal",
          "yref": "y"
         },
         {
          "font": {
           "color": "white"
          },
          "showarrow": false,
          "text": "",
          "x": "trouser",
          "xref": "x",
          "y": "sandal",
          "yref": "y"
         },
         {
          "font": {
           "color": "white"
          },
          "showarrow": false,
          "text": "",
          "x": "pullover",
          "xref": "x",
          "y": "sandal",
          "yref": "y"
         },
         {
          "font": {
           "color": "white"
          },
          "showarrow": false,
          "text": "1",
          "x": "dress",
          "xref": "x",
          "y": "sandal",
          "yref": "y"
         },
         {
          "font": {
           "color": "white"
          },
          "showarrow": false,
          "text": "",
          "x": "coat",
          "xref": "x",
          "y": "sandal",
          "yref": "y"
         },
         {
          "font": {
           "color": "gold"
          },
          "showarrow": false,
          "text": "966",
          "x": "sandal",
          "xref": "x",
          "y": "sandal",
          "yref": "y"
         },
         {
          "font": {
           "color": "white"
          },
          "showarrow": false,
          "text": "",
          "x": "shirt",
          "xref": "x",
          "y": "sandal",
          "yref": "y"
         },
         {
          "font": {
           "color": "white"
          },
          "showarrow": false,
          "text": "21",
          "x": "sneaker",
          "xref": "x",
          "y": "sandal",
          "yref": "y"
         },
         {
          "font": {
           "color": "white"
          },
          "showarrow": false,
          "text": "1",
          "x": "bag",
          "xref": "x",
          "y": "sandal",
          "yref": "y"
         },
         {
          "font": {
           "color": "white"
          },
          "showarrow": false,
          "text": "11",
          "x": "ankle_boot",
          "xref": "x",
          "y": "sandal",
          "yref": "y"
         },
         {
          "font": {
           "color": "white"
          },
          "showarrow": false,
          "text": "153",
          "x": "t-shirt_top",
          "xref": "x",
          "y": "shirt",
          "yref": "y"
         },
         {
          "font": {
           "color": "white"
          },
          "showarrow": false,
          "text": "",
          "x": "trouser",
          "xref": "x",
          "y": "shirt",
          "yref": "y"
         },
         {
          "font": {
           "color": "white"
          },
          "showarrow": false,
          "text": "75",
          "x": "pullover",
          "xref": "x",
          "y": "shirt",
          "yref": "y"
         },
         {
          "font": {
           "color": "white"
          },
          "showarrow": false,
          "text": "18",
          "x": "dress",
          "xref": "x",
          "y": "shirt",
          "yref": "y"
         },
         {
          "font": {
           "color": "white"
          },
          "showarrow": false,
          "text": "49",
          "x": "coat",
          "xref": "x",
          "y": "shirt",
          "yref": "y"
         },
         {
          "font": {
           "color": "white"
          },
          "showarrow": false,
          "text": "",
          "x": "sandal",
          "xref": "x",
          "y": "shirt",
          "yref": "y"
         },
         {
          "font": {
           "color": "gold"
          },
          "showarrow": false,
          "text": "691",
          "x": "shirt",
          "xref": "x",
          "y": "shirt",
          "yref": "y"
         },
         {
          "font": {
           "color": "white"
          },
          "showarrow": false,
          "text": "",
          "x": "sneaker",
          "xref": "x",
          "y": "shirt",
          "yref": "y"
         },
         {
          "font": {
           "color": "white"
          },
          "showarrow": false,
          "text": "14",
          "x": "bag",
          "xref": "x",
          "y": "shirt",
          "yref": "y"
         },
         {
          "font": {
           "color": "white"
          },
          "showarrow": false,
          "text": "",
          "x": "ankle_boot",
          "xref": "x",
          "y": "shirt",
          "yref": "y"
         },
         {
          "font": {
           "color": "white"
          },
          "showarrow": false,
          "text": "",
          "x": "t-shirt_top",
          "xref": "x",
          "y": "sneaker",
          "yref": "y"
         },
         {
          "font": {
           "color": "white"
          },
          "showarrow": false,
          "text": "",
          "x": "trouser",
          "xref": "x",
          "y": "sneaker",
          "yref": "y"
         },
         {
          "font": {
           "color": "white"
          },
          "showarrow": false,
          "text": "",
          "x": "pullover",
          "xref": "x",
          "y": "sneaker",
          "yref": "y"
         },
         {
          "font": {
           "color": "white"
          },
          "showarrow": false,
          "text": "",
          "x": "dress",
          "xref": "x",
          "y": "sneaker",
          "yref": "y"
         },
         {
          "font": {
           "color": "white"
          },
          "showarrow": false,
          "text": "",
          "x": "coat",
          "xref": "x",
          "y": "sneaker",
          "yref": "y"
         },
         {
          "font": {
           "color": "white"
          },
          "showarrow": false,
          "text": "12",
          "x": "sandal",
          "xref": "x",
          "y": "sneaker",
          "yref": "y"
         },
         {
          "font": {
           "color": "white"
          },
          "showarrow": false,
          "text": "",
          "x": "shirt",
          "xref": "x",
          "y": "sneaker",
          "yref": "y"
         },
         {
          "font": {
           "color": "gold"
          },
          "showarrow": false,
          "text": "975",
          "x": "sneaker",
          "xref": "x",
          "y": "sneaker",
          "yref": "y"
         },
         {
          "font": {
           "color": "white"
          },
          "showarrow": false,
          "text": "1",
          "x": "bag",
          "xref": "x",
          "y": "sneaker",
          "yref": "y"
         },
         {
          "font": {
           "color": "white"
          },
          "showarrow": false,
          "text": "12",
          "x": "ankle_boot",
          "xref": "x",
          "y": "sneaker",
          "yref": "y"
         },
         {
          "font": {
           "color": "white"
          },
          "showarrow": false,
          "text": "8",
          "x": "t-shirt_top",
          "xref": "x",
          "y": "bag",
          "yref": "y"
         },
         {
          "font": {
           "color": "white"
          },
          "showarrow": false,
          "text": "",
          "x": "trouser",
          "xref": "x",
          "y": "bag",
          "yref": "y"
         },
         {
          "font": {
           "color": "white"
          },
          "showarrow": false,
          "text": "2",
          "x": "pullover",
          "xref": "x",
          "y": "bag",
          "yref": "y"
         },
         {
          "font": {
           "color": "white"
          },
          "showarrow": false,
          "text": "1",
          "x": "dress",
          "xref": "x",
          "y": "bag",
          "yref": "y"
         },
         {
          "font": {
           "color": "white"
          },
          "showarrow": false,
          "text": "3",
          "x": "coat",
          "xref": "x",
          "y": "bag",
          "yref": "y"
         },
         {
          "font": {
           "color": "white"
          },
          "showarrow": false,
          "text": "1",
          "x": "sandal",
          "xref": "x",
          "y": "bag",
          "yref": "y"
         },
         {
          "font": {
           "color": "white"
          },
          "showarrow": false,
          "text": "8",
          "x": "shirt",
          "xref": "x",
          "y": "bag",
          "yref": "y"
         },
         {
          "font": {
           "color": "white"
          },
          "showarrow": false,
          "text": "5",
          "x": "sneaker",
          "xref": "x",
          "y": "bag",
          "yref": "y"
         },
         {
          "font": {
           "color": "gold"
          },
          "showarrow": false,
          "text": "972",
          "x": "bag",
          "xref": "x",
          "y": "bag",
          "yref": "y"
         },
         {
          "font": {
           "color": "white"
          },
          "showarrow": false,
          "text": "",
          "x": "ankle_boot",
          "xref": "x",
          "y": "bag",
          "yref": "y"
         },
         {
          "font": {
           "color": "white"
          },
          "showarrow": false,
          "text": "",
          "x": "t-shirt_top",
          "xref": "x",
          "y": "ankle_boot",
          "yref": "y"
         },
         {
          "font": {
           "color": "white"
          },
          "showarrow": false,
          "text": "",
          "x": "trouser",
          "xref": "x",
          "y": "ankle_boot",
          "yref": "y"
         },
         {
          "font": {
           "color": "white"
          },
          "showarrow": false,
          "text": "",
          "x": "pullover",
          "xref": "x",
          "y": "ankle_boot",
          "yref": "y"
         },
         {
          "font": {
           "color": "white"
          },
          "showarrow": false,
          "text": "",
          "x": "dress",
          "xref": "x",
          "y": "ankle_boot",
          "yref": "y"
         },
         {
          "font": {
           "color": "white"
          },
          "showarrow": false,
          "text": "",
          "x": "coat",
          "xref": "x",
          "y": "ankle_boot",
          "yref": "y"
         },
         {
          "font": {
           "color": "white"
          },
          "showarrow": false,
          "text": "5",
          "x": "sandal",
          "xref": "x",
          "y": "ankle_boot",
          "yref": "y"
         },
         {
          "font": {
           "color": "white"
          },
          "showarrow": false,
          "text": "1",
          "x": "shirt",
          "xref": "x",
          "y": "ankle_boot",
          "yref": "y"
         },
         {
          "font": {
           "color": "white"
          },
          "showarrow": false,
          "text": "59",
          "x": "sneaker",
          "xref": "x",
          "y": "ankle_boot",
          "yref": "y"
         },
         {
          "font": {
           "color": "white"
          },
          "showarrow": false,
          "text": "",
          "x": "bag",
          "xref": "x",
          "y": "ankle_boot",
          "yref": "y"
         },
         {
          "font": {
           "color": "gold"
          },
          "showarrow": false,
          "text": "935",
          "x": "ankle_boot",
          "xref": "x",
          "y": "ankle_boot",
          "yref": "y"
         }
        ],
        "autosize": true,
        "title": {
         "font": {
          "size": 24
         },
         "text": "Fashion MNIST Confusion Matrix",
         "x": 0.05,
         "y": 0.9
        },
        "xaxis": {
         "autorange": true,
         "dtick": 1,
         "gridcolor": "rgb(0, 0, 0)",
         "range": [
          -0.5,
          9.5
         ],
         "side": "bottom",
         "tickangle": -45,
         "tickfont": {
          "color": "black",
          "family": "Old Standard TT, serif",
          "size": 14
         },
         "ticks": "",
         "title": {
          "font": {
           "color": "gray",
           "family": "Arial, sans-serif",
           "size": 18
          },
          "text": "Categories"
         },
         "type": "category"
        },
        "yaxis": {
         "autorange": true,
         "dtick": 1,
         "range": [
          -0.5,
          9.5
         ],
         "tickangle": 0,
         "tickfont": {
          "color": "black",
          "family": "Old Standard TT, serif",
          "size": 14
         },
         "ticks": "",
         "ticksuffix": "  ",
         "title": {
          "font": {
           "color": "gray",
           "family": "Arial, sans-serif",
           "size": 18
          },
          "text": "Predicted Categories"
         },
         "type": "category"
        }
       }
      },
      "image/png": "[encoded data removed]"
     },
     "metadata": {},
     "output_type": "display_data"
    }
   ],
   "source": [
    "predict = np.argmax(model.predict(x_test), axis=1)\n",
    "confusion = tf.math.confusion_matrix(y_test, predict)\n",
    "\n",
    "zero_diag = np.copy(confusion.numpy())\n",
    "np.fill_diagonal(zero_diag, 0)\n",
    "max_error = zero_diag.max()\n",
    "\n",
    "fig = ff.create_annotated_heatmap(\n",
    "    z=confusion.numpy(),\n",
    "    x=classes,\n",
    "    y=classes,\n",
    "    colorscale='Blues',\n",
    "    reversescale=True,\n",
    "    zmin=0,\n",
    "    zmax=max_error,\n",
    "    annotation_text=[['' if x == 0 else x for x in row]\n",
    "                     for row in confusion.numpy().tolist()],\n",
    "    font_colors=['white', 'gold'],\n",
    ")\n",
    "fig.layout.update({\n",
    "    'title': {\n",
    "        'text': 'Fashion MNIST Confusion Matrix',\n",
    "        'x': 0.05,\n",
    "        'y': 0.90,\n",
    "    },\n",
    "    'titlefont': {\n",
    "            'size': 24\n",
    "    },\n",
    "    'xaxis': {\n",
    "        'side': 'bottom',\n",
    "        'tickangle': -45,\n",
    "        'tickfont': tick_font,\n",
    "        'title': 'Categories',\n",
    "        'titlefont': axis_font,\n",
    "    },\n",
    "    'yaxis': {\n",
    "        'tickangle': 0,\n",
    "        'tickfont': tick_font,\n",
    "        'title': 'Predicted Categories',\n",
    "        'titlefont': axis_font,\n",
    "    },\n",
    "})\n",
    "iplot(fig, 'MNIST Confusion Matrix')"
   ]
  }
 ],
 "metadata": {
  "kernelspec": {
   "display_name": "Python 3",
   "language": "python",
   "name": "python3"
  },
  "language_info": {
   "codemirror_mode": {
    "name": "ipython",
    "version": 3
   },
   "file_extension": ".py",
   "mimetype": "text/x-python",
   "name": "python",
   "nbconvert_exporter": "python",
   "pygments_lexer": "ipython3",
   "version": "3.6.8"
  }
 },
 "nbformat": 4,
 "nbformat_minor": 2
}
